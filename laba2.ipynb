{
  "nbformat": 4,
  "nbformat_minor": 0,
  "metadata": {
    "colab": {
      "provenance": []
    },
    "kernelspec": {
      "name": "python3",
      "display_name": "Python 3"
    },
    "language_info": {
      "name": "python"
    }
  },
  "cells": [
    {
      "cell_type": "code",
      "execution_count": null,
      "metadata": {
        "id": "X-ZVa2RKqHb0"
      },
      "outputs": [],
      "source": [
        "import seaborn as sns\n",
        "import numpy as np\n",
        "import pandas as pd\n",
        "from sklearn.preprocessing import MinMaxScaler\n",
        "from sklearn.preprocessing import StandardScaler\n",
        "from sklearn.model_selection import train_test_split, GridSearchCV\n",
        "from sklearn.linear_model import LogisticRegression\n",
        "from sklearn.ensemble import RandomForestClassifier, GradientBoostingClassifier\n",
        "from sklearn.svm import SVC\n",
        "from sklearn.neighbors import KNeighborsClassifier\n",
        "from sklearn.metrics import accuracy_score, precision_score, recall_score, f1_score, roc_curve, roc_auc_score\n",
        "import matplotlib.pyplot as plt"
      ]
    },
    {
      "cell_type": "markdown",
      "source": [
        "**Информация о датасете:**\n",
        "Датасет был создан, чтобы выяснить, можно ли заменить дорогостояющую проверку сложных моделей процессов прогнозированием результатов аукциона.\n",
        "\n",
        "\n",
        "---\n",
        "\n",
        "\n",
        "Каждая строка датасета - один цикл проверки. Проверяем, возможна ли конкретная цена для конкретного товара, и может ли конкретный участник торгов выиграть товар по этой цене."
      ],
      "metadata": {
        "id": "0dQXS2AXtgxV"
      }
    },
    {
      "cell_type": "markdown",
      "source": [
        "Фичи:\n",
        "\n",
        "\n",
        "1.   process.b1.capacity - Вместимость (максимальное количество продуктов, которые нужно выиграть) Участника торгов 1.\n",
        "2.   process.b2.capacity - Емкость (максимальное количество продуктов, которые нужно выиграть) Участника торгов 2.\n",
        "3.  process.b3.capacity - Емкость (максимальное количество продуктов, которые нужно выиграть) Участника торгов 3.\n",
        "4. process.b4.capacity - Вместимость (максимальное количество продуктов, которые нужно выиграть) Участника торгов 4.\n",
        "5. property.price - Цена в данный момент подтверждена.\n",
        "6. property.product - Продукт в настоящее время проверен.\n",
        "7. property.winner - \tУчастник торгов в настоящее время подтвержден как победитель продукта (0, если подтверждена только цена).\n",
        "8. verification.result - Результат двоичной проверки - возможен ли проверенный результат?\n",
        "9. verification.time - Время выполнения процедуры проверки.\n",
        "\n"
      ],
      "metadata": {
        "id": "c4CWLJisuXS4"
      }
    },
    {
      "cell_type": "markdown",
      "source": [
        "**Для начала скачаем датасет и загрузим его в фрейм данных. Распечатаем первые 3 строки.**"
      ],
      "metadata": {
        "id": "aolSUjhVvWxU"
      }
    },
    {
      "cell_type": "code",
      "source": [
        "data = pd.read_csv(\"/content/data.csv\")\n",
        "data.head(3)"
      ],
      "metadata": {
        "colab": {
          "base_uri": "https://localhost:8080/",
          "height": 143
        },
        "id": "8OpmvergqnDB",
        "outputId": "b55b36d5-e07c-43b7-ab28-54fdfd6114e8"
      },
      "execution_count": null,
      "outputs": [
        {
          "output_type": "execute_result",
          "data": {
            "text/plain": [
              "   process.b1.capacity  process.b2.capacity  process.b3.capacity  \\\n",
              "0                    0                    0                    2   \n",
              "1                    0                    0                    2   \n",
              "2                    0                    0                    2   \n",
              "\n",
              "   process.b4.capacity  property.price  property.product  property.winner  \\\n",
              "0                    1              59                 1                0   \n",
              "1                    1              59                 2                0   \n",
              "2                    1              59                 4                0   \n",
              "\n",
              "   verification.result  verification.time  \n",
              "0                False         163.316667  \n",
              "1                False         200.860000  \n",
              "2                False         154.888889  "
            ],
            "text/html": [
              "\n",
              "  <div id=\"df-d110f414-fb07-48a6-919b-b1a8131f95a7\" class=\"colab-df-container\">\n",
              "    <div>\n",
              "<style scoped>\n",
              "    .dataframe tbody tr th:only-of-type {\n",
              "        vertical-align: middle;\n",
              "    }\n",
              "\n",
              "    .dataframe tbody tr th {\n",
              "        vertical-align: top;\n",
              "    }\n",
              "\n",
              "    .dataframe thead th {\n",
              "        text-align: right;\n",
              "    }\n",
              "</style>\n",
              "<table border=\"1\" class=\"dataframe\">\n",
              "  <thead>\n",
              "    <tr style=\"text-align: right;\">\n",
              "      <th></th>\n",
              "      <th>process.b1.capacity</th>\n",
              "      <th>process.b2.capacity</th>\n",
              "      <th>process.b3.capacity</th>\n",
              "      <th>process.b4.capacity</th>\n",
              "      <th>property.price</th>\n",
              "      <th>property.product</th>\n",
              "      <th>property.winner</th>\n",
              "      <th>verification.result</th>\n",
              "      <th>verification.time</th>\n",
              "    </tr>\n",
              "  </thead>\n",
              "  <tbody>\n",
              "    <tr>\n",
              "      <th>0</th>\n",
              "      <td>0</td>\n",
              "      <td>0</td>\n",
              "      <td>2</td>\n",
              "      <td>1</td>\n",
              "      <td>59</td>\n",
              "      <td>1</td>\n",
              "      <td>0</td>\n",
              "      <td>False</td>\n",
              "      <td>163.316667</td>\n",
              "    </tr>\n",
              "    <tr>\n",
              "      <th>1</th>\n",
              "      <td>0</td>\n",
              "      <td>0</td>\n",
              "      <td>2</td>\n",
              "      <td>1</td>\n",
              "      <td>59</td>\n",
              "      <td>2</td>\n",
              "      <td>0</td>\n",
              "      <td>False</td>\n",
              "      <td>200.860000</td>\n",
              "    </tr>\n",
              "    <tr>\n",
              "      <th>2</th>\n",
              "      <td>0</td>\n",
              "      <td>0</td>\n",
              "      <td>2</td>\n",
              "      <td>1</td>\n",
              "      <td>59</td>\n",
              "      <td>4</td>\n",
              "      <td>0</td>\n",
              "      <td>False</td>\n",
              "      <td>154.888889</td>\n",
              "    </tr>\n",
              "  </tbody>\n",
              "</table>\n",
              "</div>\n",
              "    <div class=\"colab-df-buttons\">\n",
              "\n",
              "  <div class=\"colab-df-container\">\n",
              "    <button class=\"colab-df-convert\" onclick=\"convertToInteractive('df-d110f414-fb07-48a6-919b-b1a8131f95a7')\"\n",
              "            title=\"Convert this dataframe to an interactive table.\"\n",
              "            style=\"display:none;\">\n",
              "\n",
              "  <svg xmlns=\"http://www.w3.org/2000/svg\" height=\"24px\" viewBox=\"0 -960 960 960\">\n",
              "    <path d=\"M120-120v-720h720v720H120Zm60-500h600v-160H180v160Zm220 220h160v-160H400v160Zm0 220h160v-160H400v160ZM180-400h160v-160H180v160Zm440 0h160v-160H620v160ZM180-180h160v-160H180v160Zm440 0h160v-160H620v160Z\"/>\n",
              "  </svg>\n",
              "    </button>\n",
              "\n",
              "  <style>\n",
              "    .colab-df-container {\n",
              "      display:flex;\n",
              "      gap: 12px;\n",
              "    }\n",
              "\n",
              "    .colab-df-convert {\n",
              "      background-color: #E8F0FE;\n",
              "      border: none;\n",
              "      border-radius: 50%;\n",
              "      cursor: pointer;\n",
              "      display: none;\n",
              "      fill: #1967D2;\n",
              "      height: 32px;\n",
              "      padding: 0 0 0 0;\n",
              "      width: 32px;\n",
              "    }\n",
              "\n",
              "    .colab-df-convert:hover {\n",
              "      background-color: #E2EBFA;\n",
              "      box-shadow: 0px 1px 2px rgba(60, 64, 67, 0.3), 0px 1px 3px 1px rgba(60, 64, 67, 0.15);\n",
              "      fill: #174EA6;\n",
              "    }\n",
              "\n",
              "    .colab-df-buttons div {\n",
              "      margin-bottom: 4px;\n",
              "    }\n",
              "\n",
              "    [theme=dark] .colab-df-convert {\n",
              "      background-color: #3B4455;\n",
              "      fill: #D2E3FC;\n",
              "    }\n",
              "\n",
              "    [theme=dark] .colab-df-convert:hover {\n",
              "      background-color: #434B5C;\n",
              "      box-shadow: 0px 1px 3px 1px rgba(0, 0, 0, 0.15);\n",
              "      filter: drop-shadow(0px 1px 2px rgba(0, 0, 0, 0.3));\n",
              "      fill: #FFFFFF;\n",
              "    }\n",
              "  </style>\n",
              "\n",
              "    <script>\n",
              "      const buttonEl =\n",
              "        document.querySelector('#df-d110f414-fb07-48a6-919b-b1a8131f95a7 button.colab-df-convert');\n",
              "      buttonEl.style.display =\n",
              "        google.colab.kernel.accessAllowed ? 'block' : 'none';\n",
              "\n",
              "      async function convertToInteractive(key) {\n",
              "        const element = document.querySelector('#df-d110f414-fb07-48a6-919b-b1a8131f95a7');\n",
              "        const dataTable =\n",
              "          await google.colab.kernel.invokeFunction('convertToInteractive',\n",
              "                                                    [key], {});\n",
              "        if (!dataTable) return;\n",
              "\n",
              "        const docLinkHtml = 'Like what you see? Visit the ' +\n",
              "          '<a target=\"_blank\" href=https://colab.research.google.com/notebooks/data_table.ipynb>data table notebook</a>'\n",
              "          + ' to learn more about interactive tables.';\n",
              "        element.innerHTML = '';\n",
              "        dataTable['output_type'] = 'display_data';\n",
              "        await google.colab.output.renderOutput(dataTable, element);\n",
              "        const docLink = document.createElement('div');\n",
              "        docLink.innerHTML = docLinkHtml;\n",
              "        element.appendChild(docLink);\n",
              "      }\n",
              "    </script>\n",
              "  </div>\n",
              "\n",
              "\n",
              "<div id=\"df-be540863-d91e-45c4-a843-b550d82ba026\">\n",
              "  <button class=\"colab-df-quickchart\" onclick=\"quickchart('df-be540863-d91e-45c4-a843-b550d82ba026')\"\n",
              "            title=\"Suggest charts\"\n",
              "            style=\"display:none;\">\n",
              "\n",
              "<svg xmlns=\"http://www.w3.org/2000/svg\" height=\"24px\"viewBox=\"0 0 24 24\"\n",
              "     width=\"24px\">\n",
              "    <g>\n",
              "        <path d=\"M19 3H5c-1.1 0-2 .9-2 2v14c0 1.1.9 2 2 2h14c1.1 0 2-.9 2-2V5c0-1.1-.9-2-2-2zM9 17H7v-7h2v7zm4 0h-2V7h2v10zm4 0h-2v-4h2v4z\"/>\n",
              "    </g>\n",
              "</svg>\n",
              "  </button>\n",
              "\n",
              "<style>\n",
              "  .colab-df-quickchart {\n",
              "      --bg-color: #E8F0FE;\n",
              "      --fill-color: #1967D2;\n",
              "      --hover-bg-color: #E2EBFA;\n",
              "      --hover-fill-color: #174EA6;\n",
              "      --disabled-fill-color: #AAA;\n",
              "      --disabled-bg-color: #DDD;\n",
              "  }\n",
              "\n",
              "  [theme=dark] .colab-df-quickchart {\n",
              "      --bg-color: #3B4455;\n",
              "      --fill-color: #D2E3FC;\n",
              "      --hover-bg-color: #434B5C;\n",
              "      --hover-fill-color: #FFFFFF;\n",
              "      --disabled-bg-color: #3B4455;\n",
              "      --disabled-fill-color: #666;\n",
              "  }\n",
              "\n",
              "  .colab-df-quickchart {\n",
              "    background-color: var(--bg-color);\n",
              "    border: none;\n",
              "    border-radius: 50%;\n",
              "    cursor: pointer;\n",
              "    display: none;\n",
              "    fill: var(--fill-color);\n",
              "    height: 32px;\n",
              "    padding: 0;\n",
              "    width: 32px;\n",
              "  }\n",
              "\n",
              "  .colab-df-quickchart:hover {\n",
              "    background-color: var(--hover-bg-color);\n",
              "    box-shadow: 0 1px 2px rgba(60, 64, 67, 0.3), 0 1px 3px 1px rgba(60, 64, 67, 0.15);\n",
              "    fill: var(--button-hover-fill-color);\n",
              "  }\n",
              "\n",
              "  .colab-df-quickchart-complete:disabled,\n",
              "  .colab-df-quickchart-complete:disabled:hover {\n",
              "    background-color: var(--disabled-bg-color);\n",
              "    fill: var(--disabled-fill-color);\n",
              "    box-shadow: none;\n",
              "  }\n",
              "\n",
              "  .colab-df-spinner {\n",
              "    border: 2px solid var(--fill-color);\n",
              "    border-color: transparent;\n",
              "    border-bottom-color: var(--fill-color);\n",
              "    animation:\n",
              "      spin 1s steps(1) infinite;\n",
              "  }\n",
              "\n",
              "  @keyframes spin {\n",
              "    0% {\n",
              "      border-color: transparent;\n",
              "      border-bottom-color: var(--fill-color);\n",
              "      border-left-color: var(--fill-color);\n",
              "    }\n",
              "    20% {\n",
              "      border-color: transparent;\n",
              "      border-left-color: var(--fill-color);\n",
              "      border-top-color: var(--fill-color);\n",
              "    }\n",
              "    30% {\n",
              "      border-color: transparent;\n",
              "      border-left-color: var(--fill-color);\n",
              "      border-top-color: var(--fill-color);\n",
              "      border-right-color: var(--fill-color);\n",
              "    }\n",
              "    40% {\n",
              "      border-color: transparent;\n",
              "      border-right-color: var(--fill-color);\n",
              "      border-top-color: var(--fill-color);\n",
              "    }\n",
              "    60% {\n",
              "      border-color: transparent;\n",
              "      border-right-color: var(--fill-color);\n",
              "    }\n",
              "    80% {\n",
              "      border-color: transparent;\n",
              "      border-right-color: var(--fill-color);\n",
              "      border-bottom-color: var(--fill-color);\n",
              "    }\n",
              "    90% {\n",
              "      border-color: transparent;\n",
              "      border-bottom-color: var(--fill-color);\n",
              "    }\n",
              "  }\n",
              "</style>\n",
              "\n",
              "  <script>\n",
              "    async function quickchart(key) {\n",
              "      const quickchartButtonEl =\n",
              "        document.querySelector('#' + key + ' button');\n",
              "      quickchartButtonEl.disabled = true;  // To prevent multiple clicks.\n",
              "      quickchartButtonEl.classList.add('colab-df-spinner');\n",
              "      try {\n",
              "        const charts = await google.colab.kernel.invokeFunction(\n",
              "            'suggestCharts', [key], {});\n",
              "      } catch (error) {\n",
              "        console.error('Error during call to suggestCharts:', error);\n",
              "      }\n",
              "      quickchartButtonEl.classList.remove('colab-df-spinner');\n",
              "      quickchartButtonEl.classList.add('colab-df-quickchart-complete');\n",
              "    }\n",
              "    (() => {\n",
              "      let quickchartButtonEl =\n",
              "        document.querySelector('#df-be540863-d91e-45c4-a843-b550d82ba026 button');\n",
              "      quickchartButtonEl.style.display =\n",
              "        google.colab.kernel.accessAllowed ? 'block' : 'none';\n",
              "    })();\n",
              "  </script>\n",
              "</div>\n",
              "    </div>\n",
              "  </div>\n"
            ],
            "application/vnd.google.colaboratory.intrinsic+json": {
              "type": "dataframe",
              "variable_name": "data",
              "summary": "{\n  \"name\": \"data\",\n  \"rows\": 2043,\n  \"fields\": [\n    {\n      \"column\": \"process.b1.capacity\",\n      \"properties\": {\n        \"dtype\": \"number\",\n        \"std\": 0,\n        \"min\": 0,\n        \"max\": 2,\n        \"num_unique_values\": 3,\n        \"samples\": [\n          0,\n          1,\n          2\n        ],\n        \"semantic_type\": \"\",\n        \"description\": \"\"\n      }\n    },\n    {\n      \"column\": \"process.b2.capacity\",\n      \"properties\": {\n        \"dtype\": \"number\",\n        \"std\": 0,\n        \"min\": 0,\n        \"max\": 3,\n        \"num_unique_values\": 4,\n        \"samples\": [\n          1,\n          3,\n          0\n        ],\n        \"semantic_type\": \"\",\n        \"description\": \"\"\n      }\n    },\n    {\n      \"column\": \"process.b3.capacity\",\n      \"properties\": {\n        \"dtype\": \"number\",\n        \"std\": 0,\n        \"min\": 1,\n        \"max\": 2,\n        \"num_unique_values\": 2,\n        \"samples\": [\n          1,\n          2\n        ],\n        \"semantic_type\": \"\",\n        \"description\": \"\"\n      }\n    },\n    {\n      \"column\": \"process.b4.capacity\",\n      \"properties\": {\n        \"dtype\": \"number\",\n        \"std\": 0,\n        \"min\": 0,\n        \"max\": 1,\n        \"num_unique_values\": 2,\n        \"samples\": [\n          0,\n          1\n        ],\n        \"semantic_type\": \"\",\n        \"description\": \"\"\n      }\n    },\n    {\n      \"column\": \"property.price\",\n      \"properties\": {\n        \"dtype\": \"number\",\n        \"std\": 8,\n        \"min\": 59,\n        \"max\": 90,\n        \"num_unique_values\": 32,\n        \"samples\": [\n          88,\n          74\n        ],\n        \"semantic_type\": \"\",\n        \"description\": \"\"\n      }\n    },\n    {\n      \"column\": \"property.product\",\n      \"properties\": {\n        \"dtype\": \"number\",\n        \"std\": 1,\n        \"min\": 1,\n        \"max\": 6,\n        \"num_unique_values\": 6,\n        \"samples\": [\n          1,\n          2\n        ],\n        \"semantic_type\": \"\",\n        \"description\": \"\"\n      }\n    },\n    {\n      \"column\": \"property.winner\",\n      \"properties\": {\n        \"dtype\": \"number\",\n        \"std\": 1,\n        \"min\": 0,\n        \"max\": 4,\n        \"num_unique_values\": 5,\n        \"samples\": [\n          3,\n          1\n        ],\n        \"semantic_type\": \"\",\n        \"description\": \"\"\n      }\n    },\n    {\n      \"column\": \"verification.result\",\n      \"properties\": {\n        \"dtype\": \"boolean\",\n        \"num_unique_values\": 2,\n        \"samples\": [\n          true,\n          false\n        ],\n        \"semantic_type\": \"\",\n        \"description\": \"\"\n      }\n    },\n    {\n      \"column\": \"verification.time\",\n      \"properties\": {\n        \"dtype\": \"number\",\n        \"std\": 10375.393649629861,\n        \"min\": 77.91666666666667,\n        \"max\": 44130.520833333336,\n        \"num_unique_values\": 2039,\n        \"samples\": [\n          17158.770833333332,\n          1115.2916666666667\n        ],\n        \"semantic_type\": \"\",\n        \"description\": \"\"\n      }\n    }\n  ]\n}"
            }
          },
          "metadata": {},
          "execution_count": 2
        }
      ]
    },
    {
      "cell_type": "markdown",
      "source": [
        "**Посмотрим статистическую информацию о данных**"
      ],
      "metadata": {
        "id": "cZ-uClp3vf85"
      }
    },
    {
      "cell_type": "code",
      "source": [
        "data.info()"
      ],
      "metadata": {
        "colab": {
          "base_uri": "https://localhost:8080/"
        },
        "id": "VSPtwFH2q_kP",
        "outputId": "c689b8cb-f41f-476e-c908-46d575674287"
      },
      "execution_count": null,
      "outputs": [
        {
          "output_type": "stream",
          "name": "stdout",
          "text": [
            "<class 'pandas.core.frame.DataFrame'>\n",
            "RangeIndex: 2043 entries, 0 to 2042\n",
            "Data columns (total 9 columns):\n",
            " #   Column               Non-Null Count  Dtype  \n",
            "---  ------               --------------  -----  \n",
            " 0   process.b1.capacity  2043 non-null   int64  \n",
            " 1   process.b2.capacity  2043 non-null   int64  \n",
            " 2   process.b3.capacity  2043 non-null   int64  \n",
            " 3   process.b4.capacity  2043 non-null   int64  \n",
            " 4   property.price       2043 non-null   int64  \n",
            " 5   property.product     2043 non-null   int64  \n",
            " 6   property.winner      2043 non-null   int64  \n",
            " 7   verification.result  2043 non-null   bool   \n",
            " 8   verification.time    2043 non-null   float64\n",
            "dtypes: bool(1), float64(1), int64(7)\n",
            "memory usage: 129.8 KB\n"
          ]
        }
      ]
    },
    {
      "cell_type": "code",
      "source": [
        "data.describe()"
      ],
      "metadata": {
        "colab": {
          "base_uri": "https://localhost:8080/",
          "height": 300
        },
        "id": "f-GIlWgorD_L",
        "outputId": "f0010991-b9c7-4ec2-c663-6ebbf1d7e857"
      },
      "execution_count": null,
      "outputs": [
        {
          "output_type": "execute_result",
          "data": {
            "text/plain": [
              "       process.b1.capacity  process.b2.capacity  process.b3.capacity  \\\n",
              "count          2043.000000          2043.000000          2043.000000   \n",
              "mean              1.000000             2.093979             1.883994   \n",
              "std               0.816696             0.811269             0.320310   \n",
              "min               0.000000             0.000000             1.000000   \n",
              "25%               0.000000             1.000000             2.000000   \n",
              "50%               1.000000             2.000000             2.000000   \n",
              "75%               2.000000             3.000000             2.000000   \n",
              "max               2.000000             3.000000             2.000000   \n",
              "\n",
              "       process.b4.capacity  property.price  property.product  property.winner  \\\n",
              "count          2043.000000     2043.000000       2043.000000      2043.000000   \n",
              "mean              0.587861       71.473324          3.252080         0.455213   \n",
              "std               0.492340        8.048740          1.804225         1.062828   \n",
              "min               0.000000       59.000000          1.000000         0.000000   \n",
              "25%               0.000000       65.000000          2.000000         0.000000   \n",
              "50%               1.000000       70.000000          3.000000         0.000000   \n",
              "75%               1.000000       78.000000          5.000000         0.000000   \n",
              "max               1.000000       90.000000          6.000000         4.000000   \n",
              "\n",
              "       verification.time  \n",
              "count        2043.000000  \n",
              "mean         7336.944574  \n",
              "std         10375.393650  \n",
              "min            77.916667  \n",
              "25%           546.818910  \n",
              "50%          1316.983333  \n",
              "75%         10876.638889  \n",
              "max         44130.520833  "
            ],
            "text/html": [
              "\n",
              "  <div id=\"df-3b38d06f-66ad-4d29-b85b-21797417a49b\" class=\"colab-df-container\">\n",
              "    <div>\n",
              "<style scoped>\n",
              "    .dataframe tbody tr th:only-of-type {\n",
              "        vertical-align: middle;\n",
              "    }\n",
              "\n",
              "    .dataframe tbody tr th {\n",
              "        vertical-align: top;\n",
              "    }\n",
              "\n",
              "    .dataframe thead th {\n",
              "        text-align: right;\n",
              "    }\n",
              "</style>\n",
              "<table border=\"1\" class=\"dataframe\">\n",
              "  <thead>\n",
              "    <tr style=\"text-align: right;\">\n",
              "      <th></th>\n",
              "      <th>process.b1.capacity</th>\n",
              "      <th>process.b2.capacity</th>\n",
              "      <th>process.b3.capacity</th>\n",
              "      <th>process.b4.capacity</th>\n",
              "      <th>property.price</th>\n",
              "      <th>property.product</th>\n",
              "      <th>property.winner</th>\n",
              "      <th>verification.time</th>\n",
              "    </tr>\n",
              "  </thead>\n",
              "  <tbody>\n",
              "    <tr>\n",
              "      <th>count</th>\n",
              "      <td>2043.000000</td>\n",
              "      <td>2043.000000</td>\n",
              "      <td>2043.000000</td>\n",
              "      <td>2043.000000</td>\n",
              "      <td>2043.000000</td>\n",
              "      <td>2043.000000</td>\n",
              "      <td>2043.000000</td>\n",
              "      <td>2043.000000</td>\n",
              "    </tr>\n",
              "    <tr>\n",
              "      <th>mean</th>\n",
              "      <td>1.000000</td>\n",
              "      <td>2.093979</td>\n",
              "      <td>1.883994</td>\n",
              "      <td>0.587861</td>\n",
              "      <td>71.473324</td>\n",
              "      <td>3.252080</td>\n",
              "      <td>0.455213</td>\n",
              "      <td>7336.944574</td>\n",
              "    </tr>\n",
              "    <tr>\n",
              "      <th>std</th>\n",
              "      <td>0.816696</td>\n",
              "      <td>0.811269</td>\n",
              "      <td>0.320310</td>\n",
              "      <td>0.492340</td>\n",
              "      <td>8.048740</td>\n",
              "      <td>1.804225</td>\n",
              "      <td>1.062828</td>\n",
              "      <td>10375.393650</td>\n",
              "    </tr>\n",
              "    <tr>\n",
              "      <th>min</th>\n",
              "      <td>0.000000</td>\n",
              "      <td>0.000000</td>\n",
              "      <td>1.000000</td>\n",
              "      <td>0.000000</td>\n",
              "      <td>59.000000</td>\n",
              "      <td>1.000000</td>\n",
              "      <td>0.000000</td>\n",
              "      <td>77.916667</td>\n",
              "    </tr>\n",
              "    <tr>\n",
              "      <th>25%</th>\n",
              "      <td>0.000000</td>\n",
              "      <td>1.000000</td>\n",
              "      <td>2.000000</td>\n",
              "      <td>0.000000</td>\n",
              "      <td>65.000000</td>\n",
              "      <td>2.000000</td>\n",
              "      <td>0.000000</td>\n",
              "      <td>546.818910</td>\n",
              "    </tr>\n",
              "    <tr>\n",
              "      <th>50%</th>\n",
              "      <td>1.000000</td>\n",
              "      <td>2.000000</td>\n",
              "      <td>2.000000</td>\n",
              "      <td>1.000000</td>\n",
              "      <td>70.000000</td>\n",
              "      <td>3.000000</td>\n",
              "      <td>0.000000</td>\n",
              "      <td>1316.983333</td>\n",
              "    </tr>\n",
              "    <tr>\n",
              "      <th>75%</th>\n",
              "      <td>2.000000</td>\n",
              "      <td>3.000000</td>\n",
              "      <td>2.000000</td>\n",
              "      <td>1.000000</td>\n",
              "      <td>78.000000</td>\n",
              "      <td>5.000000</td>\n",
              "      <td>0.000000</td>\n",
              "      <td>10876.638889</td>\n",
              "    </tr>\n",
              "    <tr>\n",
              "      <th>max</th>\n",
              "      <td>2.000000</td>\n",
              "      <td>3.000000</td>\n",
              "      <td>2.000000</td>\n",
              "      <td>1.000000</td>\n",
              "      <td>90.000000</td>\n",
              "      <td>6.000000</td>\n",
              "      <td>4.000000</td>\n",
              "      <td>44130.520833</td>\n",
              "    </tr>\n",
              "  </tbody>\n",
              "</table>\n",
              "</div>\n",
              "    <div class=\"colab-df-buttons\">\n",
              "\n",
              "  <div class=\"colab-df-container\">\n",
              "    <button class=\"colab-df-convert\" onclick=\"convertToInteractive('df-3b38d06f-66ad-4d29-b85b-21797417a49b')\"\n",
              "            title=\"Convert this dataframe to an interactive table.\"\n",
              "            style=\"display:none;\">\n",
              "\n",
              "  <svg xmlns=\"http://www.w3.org/2000/svg\" height=\"24px\" viewBox=\"0 -960 960 960\">\n",
              "    <path d=\"M120-120v-720h720v720H120Zm60-500h600v-160H180v160Zm220 220h160v-160H400v160Zm0 220h160v-160H400v160ZM180-400h160v-160H180v160Zm440 0h160v-160H620v160ZM180-180h160v-160H180v160Zm440 0h160v-160H620v160Z\"/>\n",
              "  </svg>\n",
              "    </button>\n",
              "\n",
              "  <style>\n",
              "    .colab-df-container {\n",
              "      display:flex;\n",
              "      gap: 12px;\n",
              "    }\n",
              "\n",
              "    .colab-df-convert {\n",
              "      background-color: #E8F0FE;\n",
              "      border: none;\n",
              "      border-radius: 50%;\n",
              "      cursor: pointer;\n",
              "      display: none;\n",
              "      fill: #1967D2;\n",
              "      height: 32px;\n",
              "      padding: 0 0 0 0;\n",
              "      width: 32px;\n",
              "    }\n",
              "\n",
              "    .colab-df-convert:hover {\n",
              "      background-color: #E2EBFA;\n",
              "      box-shadow: 0px 1px 2px rgba(60, 64, 67, 0.3), 0px 1px 3px 1px rgba(60, 64, 67, 0.15);\n",
              "      fill: #174EA6;\n",
              "    }\n",
              "\n",
              "    .colab-df-buttons div {\n",
              "      margin-bottom: 4px;\n",
              "    }\n",
              "\n",
              "    [theme=dark] .colab-df-convert {\n",
              "      background-color: #3B4455;\n",
              "      fill: #D2E3FC;\n",
              "    }\n",
              "\n",
              "    [theme=dark] .colab-df-convert:hover {\n",
              "      background-color: #434B5C;\n",
              "      box-shadow: 0px 1px 3px 1px rgba(0, 0, 0, 0.15);\n",
              "      filter: drop-shadow(0px 1px 2px rgba(0, 0, 0, 0.3));\n",
              "      fill: #FFFFFF;\n",
              "    }\n",
              "  </style>\n",
              "\n",
              "    <script>\n",
              "      const buttonEl =\n",
              "        document.querySelector('#df-3b38d06f-66ad-4d29-b85b-21797417a49b button.colab-df-convert');\n",
              "      buttonEl.style.display =\n",
              "        google.colab.kernel.accessAllowed ? 'block' : 'none';\n",
              "\n",
              "      async function convertToInteractive(key) {\n",
              "        const element = document.querySelector('#df-3b38d06f-66ad-4d29-b85b-21797417a49b');\n",
              "        const dataTable =\n",
              "          await google.colab.kernel.invokeFunction('convertToInteractive',\n",
              "                                                    [key], {});\n",
              "        if (!dataTable) return;\n",
              "\n",
              "        const docLinkHtml = 'Like what you see? Visit the ' +\n",
              "          '<a target=\"_blank\" href=https://colab.research.google.com/notebooks/data_table.ipynb>data table notebook</a>'\n",
              "          + ' to learn more about interactive tables.';\n",
              "        element.innerHTML = '';\n",
              "        dataTable['output_type'] = 'display_data';\n",
              "        await google.colab.output.renderOutput(dataTable, element);\n",
              "        const docLink = document.createElement('div');\n",
              "        docLink.innerHTML = docLinkHtml;\n",
              "        element.appendChild(docLink);\n",
              "      }\n",
              "    </script>\n",
              "  </div>\n",
              "\n",
              "\n",
              "<div id=\"df-19da11dd-dbd0-4765-be11-a2aa0e1a1247\">\n",
              "  <button class=\"colab-df-quickchart\" onclick=\"quickchart('df-19da11dd-dbd0-4765-be11-a2aa0e1a1247')\"\n",
              "            title=\"Suggest charts\"\n",
              "            style=\"display:none;\">\n",
              "\n",
              "<svg xmlns=\"http://www.w3.org/2000/svg\" height=\"24px\"viewBox=\"0 0 24 24\"\n",
              "     width=\"24px\">\n",
              "    <g>\n",
              "        <path d=\"M19 3H5c-1.1 0-2 .9-2 2v14c0 1.1.9 2 2 2h14c1.1 0 2-.9 2-2V5c0-1.1-.9-2-2-2zM9 17H7v-7h2v7zm4 0h-2V7h2v10zm4 0h-2v-4h2v4z\"/>\n",
              "    </g>\n",
              "</svg>\n",
              "  </button>\n",
              "\n",
              "<style>\n",
              "  .colab-df-quickchart {\n",
              "      --bg-color: #E8F0FE;\n",
              "      --fill-color: #1967D2;\n",
              "      --hover-bg-color: #E2EBFA;\n",
              "      --hover-fill-color: #174EA6;\n",
              "      --disabled-fill-color: #AAA;\n",
              "      --disabled-bg-color: #DDD;\n",
              "  }\n",
              "\n",
              "  [theme=dark] .colab-df-quickchart {\n",
              "      --bg-color: #3B4455;\n",
              "      --fill-color: #D2E3FC;\n",
              "      --hover-bg-color: #434B5C;\n",
              "      --hover-fill-color: #FFFFFF;\n",
              "      --disabled-bg-color: #3B4455;\n",
              "      --disabled-fill-color: #666;\n",
              "  }\n",
              "\n",
              "  .colab-df-quickchart {\n",
              "    background-color: var(--bg-color);\n",
              "    border: none;\n",
              "    border-radius: 50%;\n",
              "    cursor: pointer;\n",
              "    display: none;\n",
              "    fill: var(--fill-color);\n",
              "    height: 32px;\n",
              "    padding: 0;\n",
              "    width: 32px;\n",
              "  }\n",
              "\n",
              "  .colab-df-quickchart:hover {\n",
              "    background-color: var(--hover-bg-color);\n",
              "    box-shadow: 0 1px 2px rgba(60, 64, 67, 0.3), 0 1px 3px 1px rgba(60, 64, 67, 0.15);\n",
              "    fill: var(--button-hover-fill-color);\n",
              "  }\n",
              "\n",
              "  .colab-df-quickchart-complete:disabled,\n",
              "  .colab-df-quickchart-complete:disabled:hover {\n",
              "    background-color: var(--disabled-bg-color);\n",
              "    fill: var(--disabled-fill-color);\n",
              "    box-shadow: none;\n",
              "  }\n",
              "\n",
              "  .colab-df-spinner {\n",
              "    border: 2px solid var(--fill-color);\n",
              "    border-color: transparent;\n",
              "    border-bottom-color: var(--fill-color);\n",
              "    animation:\n",
              "      spin 1s steps(1) infinite;\n",
              "  }\n",
              "\n",
              "  @keyframes spin {\n",
              "    0% {\n",
              "      border-color: transparent;\n",
              "      border-bottom-color: var(--fill-color);\n",
              "      border-left-color: var(--fill-color);\n",
              "    }\n",
              "    20% {\n",
              "      border-color: transparent;\n",
              "      border-left-color: var(--fill-color);\n",
              "      border-top-color: var(--fill-color);\n",
              "    }\n",
              "    30% {\n",
              "      border-color: transparent;\n",
              "      border-left-color: var(--fill-color);\n",
              "      border-top-color: var(--fill-color);\n",
              "      border-right-color: var(--fill-color);\n",
              "    }\n",
              "    40% {\n",
              "      border-color: transparent;\n",
              "      border-right-color: var(--fill-color);\n",
              "      border-top-color: var(--fill-color);\n",
              "    }\n",
              "    60% {\n",
              "      border-color: transparent;\n",
              "      border-right-color: var(--fill-color);\n",
              "    }\n",
              "    80% {\n",
              "      border-color: transparent;\n",
              "      border-right-color: var(--fill-color);\n",
              "      border-bottom-color: var(--fill-color);\n",
              "    }\n",
              "    90% {\n",
              "      border-color: transparent;\n",
              "      border-bottom-color: var(--fill-color);\n",
              "    }\n",
              "  }\n",
              "</style>\n",
              "\n",
              "  <script>\n",
              "    async function quickchart(key) {\n",
              "      const quickchartButtonEl =\n",
              "        document.querySelector('#' + key + ' button');\n",
              "      quickchartButtonEl.disabled = true;  // To prevent multiple clicks.\n",
              "      quickchartButtonEl.classList.add('colab-df-spinner');\n",
              "      try {\n",
              "        const charts = await google.colab.kernel.invokeFunction(\n",
              "            'suggestCharts', [key], {});\n",
              "      } catch (error) {\n",
              "        console.error('Error during call to suggestCharts:', error);\n",
              "      }\n",
              "      quickchartButtonEl.classList.remove('colab-df-spinner');\n",
              "      quickchartButtonEl.classList.add('colab-df-quickchart-complete');\n",
              "    }\n",
              "    (() => {\n",
              "      let quickchartButtonEl =\n",
              "        document.querySelector('#df-19da11dd-dbd0-4765-be11-a2aa0e1a1247 button');\n",
              "      quickchartButtonEl.style.display =\n",
              "        google.colab.kernel.accessAllowed ? 'block' : 'none';\n",
              "    })();\n",
              "  </script>\n",
              "</div>\n",
              "    </div>\n",
              "  </div>\n"
            ],
            "application/vnd.google.colaboratory.intrinsic+json": {
              "type": "dataframe",
              "summary": "{\n  \"name\": \"data\",\n  \"rows\": 8,\n  \"fields\": [\n    {\n      \"column\": \"process.b1.capacity\",\n      \"properties\": {\n        \"dtype\": \"number\",\n        \"std\": 721.9656804116714,\n        \"min\": 0.0,\n        \"max\": 2043.0,\n        \"num_unique_values\": 5,\n        \"samples\": [\n          1.0,\n          2.0,\n          0.8166964821624333\n        ],\n        \"semantic_type\": \"\",\n        \"description\": \"\"\n      }\n    },\n    {\n      \"column\": \"process.b2.capacity\",\n      \"properties\": {\n        \"dtype\": \"number\",\n        \"std\": 721.709042642252,\n        \"min\": 0.0,\n        \"max\": 2043.0,\n        \"num_unique_values\": 7,\n        \"samples\": [\n          2043.0,\n          2.093979441997063,\n          2.0\n        ],\n        \"semantic_type\": \"\",\n        \"description\": \"\"\n      }\n    },\n    {\n      \"column\": \"process.b3.capacity\",\n      \"properties\": {\n        \"dtype\": \"number\",\n        \"std\": 721.7439431640782,\n        \"min\": 0.32031036608529667,\n        \"max\": 2043.0,\n        \"num_unique_values\": 5,\n        \"samples\": [\n          1.8839941262848752,\n          2.0,\n          0.32031036608529667\n        ],\n        \"semantic_type\": \"\",\n        \"description\": \"\"\n      }\n    },\n    {\n      \"column\": \"process.b4.capacity\",\n      \"properties\": {\n        \"dtype\": \"number\",\n        \"std\": 722.1036153490828,\n        \"min\": 0.0,\n        \"max\": 2043.0,\n        \"num_unique_values\": 5,\n        \"samples\": [\n          0.5878609887420461,\n          1.0,\n          0.4923404261889853\n        ],\n        \"semantic_type\": \"\",\n        \"description\": \"\"\n      }\n    },\n    {\n      \"column\": \"property.price\",\n      \"properties\": {\n        \"dtype\": \"number\",\n        \"std\": 700.4290503934401,\n        \"min\": 8.048740362119768,\n        \"max\": 2043.0,\n        \"num_unique_values\": 8,\n        \"samples\": [\n          71.47332354380812,\n          70.0,\n          2043.0\n        ],\n        \"semantic_type\": \"\",\n        \"description\": \"\"\n      }\n    },\n    {\n      \"column\": \"property.product\",\n      \"properties\": {\n        \"dtype\": \"number\",\n        \"std\": 721.1974801897395,\n        \"min\": 1.0,\n        \"max\": 2043.0,\n        \"num_unique_values\": 8,\n        \"samples\": [\n          3.2520802741067056,\n          3.0,\n          2043.0\n        ],\n        \"semantic_type\": \"\",\n        \"description\": \"\"\n      }\n    },\n    {\n      \"column\": \"property.winner\",\n      \"properties\": {\n        \"dtype\": \"number\",\n        \"std\": 722.0321585732759,\n        \"min\": 0.0,\n        \"max\": 2043.0,\n        \"num_unique_values\": 5,\n        \"samples\": [\n          0.4552129221732746,\n          4.0,\n          1.062828443762752\n        ],\n        \"semantic_type\": \"\",\n        \"description\": \"\"\n      }\n    },\n    {\n      \"column\": \"verification.time\",\n      \"properties\": {\n        \"dtype\": \"number\",\n        \"std\": 14629.00717847334,\n        \"min\": 77.91666666666667,\n        \"max\": 44130.520833333336,\n        \"num_unique_values\": 8,\n        \"samples\": [\n          7336.944574385431,\n          1316.9833333333331,\n          2043.0\n        ],\n        \"semantic_type\": \"\",\n        \"description\": \"\"\n      }\n    }\n  ]\n}"
            }
          },
          "metadata": {},
          "execution_count": 4
        }
      ]
    },
    {
      "cell_type": "markdown",
      "source": [
        "**Заметим, что нет ни одного пропущенного значения.**\n",
        "**Посмотрим, какие столбцы имеются в нашем датасете.**"
      ],
      "metadata": {
        "id": "w3sYqVoyvr5m"
      }
    },
    {
      "cell_type": "code",
      "source": [
        "data.columns"
      ],
      "metadata": {
        "colab": {
          "base_uri": "https://localhost:8080/"
        },
        "id": "0y9iByklrEoe",
        "outputId": "da91eb76-a953-4ba1-cc49-e93be8662ada"
      },
      "execution_count": null,
      "outputs": [
        {
          "output_type": "execute_result",
          "data": {
            "text/plain": [
              "Index(['process.b1.capacity', 'process.b2.capacity', 'process.b3.capacity',\n",
              "       'process.b4.capacity', 'property.price', 'property.product',\n",
              "       'property.winner', 'verification.result', 'verification.time'],\n",
              "      dtype='object')"
            ]
          },
          "metadata": {},
          "execution_count": 39
        }
      ]
    },
    {
      "cell_type": "markdown",
      "source": [
        "**Количество строк и столбцов**"
      ],
      "metadata": {
        "id": "K06KBh1Wv-E8"
      }
    },
    {
      "cell_type": "code",
      "source": [
        "data.shape"
      ],
      "metadata": {
        "colab": {
          "base_uri": "https://localhost:8080/"
        },
        "id": "9IN0NKkorIkK",
        "outputId": "f42285b2-ba5d-4ee5-e073-d816ce568b63"
      },
      "execution_count": null,
      "outputs": [
        {
          "output_type": "execute_result",
          "data": {
            "text/plain": [
              "(2043, 9)"
            ]
          },
          "metadata": {},
          "execution_count": 40
        }
      ]
    },
    {
      "cell_type": "markdown",
      "source": [
        "**Выберем в качестве таргета столбец verification.result. Посмотрим, сколько объектов принадлежит каждому классу.**"
      ],
      "metadata": {
        "id": "va-dIkFSwFA_"
      }
    },
    {
      "cell_type": "code",
      "source": [
        "data['verification.result'].value_counts()"
      ],
      "metadata": {
        "colab": {
          "base_uri": "https://localhost:8080/",
          "height": 178
        },
        "id": "1xo4GPI1rJXz",
        "outputId": "b60e5b15-862d-49cc-ba71-972b338ffc5b"
      },
      "execution_count": null,
      "outputs": [
        {
          "output_type": "execute_result",
          "data": {
            "text/plain": [
              "verification.result\n",
              "False    1781\n",
              "True      262\n",
              "Name: count, dtype: int64"
            ],
            "text/html": [
              "<div>\n",
              "<style scoped>\n",
              "    .dataframe tbody tr th:only-of-type {\n",
              "        vertical-align: middle;\n",
              "    }\n",
              "\n",
              "    .dataframe tbody tr th {\n",
              "        vertical-align: top;\n",
              "    }\n",
              "\n",
              "    .dataframe thead th {\n",
              "        text-align: right;\n",
              "    }\n",
              "</style>\n",
              "<table border=\"1\" class=\"dataframe\">\n",
              "  <thead>\n",
              "    <tr style=\"text-align: right;\">\n",
              "      <th></th>\n",
              "      <th>count</th>\n",
              "    </tr>\n",
              "    <tr>\n",
              "      <th>verification.result</th>\n",
              "      <th></th>\n",
              "    </tr>\n",
              "  </thead>\n",
              "  <tbody>\n",
              "    <tr>\n",
              "      <th>False</th>\n",
              "      <td>1781</td>\n",
              "    </tr>\n",
              "    <tr>\n",
              "      <th>True</th>\n",
              "      <td>262</td>\n",
              "    </tr>\n",
              "  </tbody>\n",
              "</table>\n",
              "</div><br><label><b>dtype:</b> int64</label>"
            ]
          },
          "metadata": {},
          "execution_count": 5
        }
      ]
    },
    {
      "cell_type": "markdown",
      "source": [
        "**Удалим из исходного датасета таргет.**"
      ],
      "metadata": {
        "id": "aLV8xbhPwbgL"
      }
    },
    {
      "cell_type": "code",
      "source": [
        "y = data.pop('verification.result')\n",
        "df = data"
      ],
      "metadata": {
        "id": "JFF_jkDhrShD"
      },
      "execution_count": null,
      "outputs": []
    },
    {
      "cell_type": "markdown",
      "source": [
        "**Масштабируем данные, применим MinMaxScaler**"
      ],
      "metadata": {
        "id": "nlLmfRzfwgCG"
      }
    },
    {
      "cell_type": "code",
      "source": [
        "scaler = StandardScaler()\n",
        "df_scaled = scaler.fit_transform(df)"
      ],
      "metadata": {
        "id": "kAyTlH2wrc4c"
      },
      "execution_count": null,
      "outputs": []
    },
    {
      "cell_type": "markdown",
      "source": [
        "**Разделим данные на обучающую и тестовую выборки в пропорциях 70/30**"
      ],
      "metadata": {
        "id": "kHX4t1iRw6pi"
      }
    },
    {
      "cell_type": "code",
      "source": [
        "X_train, X_test, y_train, y_test = train_test_split(\n",
        "    df_scaled, y, test_size=0.3, random_state=17, stratify=y\n",
        ")"
      ],
      "metadata": {
        "id": "Gyul_1CqsArr"
      },
      "execution_count": null,
      "outputs": []
    },
    {
      "cell_type": "markdown",
      "source": [
        "Далее попробуем следующие алгоритмы:\n",
        "\n",
        "Logistic Regression (логистическая регрессия) Random Forest (случайный лес) Support Vector Machine (машина опорных векторов, SVM) K-Nearest Neighbors (k ближайших соседей, KNN) Gradient Boosting (градиентный бустинг)"
      ],
      "metadata": {
        "id": "cd5ODa2oxKcE"
      }
    },
    {
      "cell_type": "markdown",
      "source": [
        "Логистическая регрессия"
      ],
      "metadata": {
        "id": "Nq9kylo20wo_"
      }
    },
    {
      "cell_type": "code",
      "source": [
        "logistic_model = LogisticRegression() #Инифиализация модели\n",
        "logistic_params = {\"C\": [0.1, 1, 10], \"penalty\": [\"l2\"], \"solver\": [\"lbfgs\"]} #Параметры для GridSearchCV\n",
        "logistic_grid = GridSearchCV(logistic_model, logistic_params, cv=5, scoring=\"accuracy\", n_jobs=-1) #Использование GridSearchCV\n",
        "logistic_grid.fit(X_train, y_train)\n",
        "best_logistic = logistic_grid.best_estimator_ #Обучаем модель с лучшими параметрами\n",
        "y_pred_logistic = best_logistic.predict(X_test) #Предскзываем на тесте"
      ],
      "metadata": {
        "id": "6RXmt0gy0LHy"
      },
      "execution_count": null,
      "outputs": []
    },
    {
      "cell_type": "markdown",
      "source": [
        "Смотрим метрики"
      ],
      "metadata": {
        "id": "UJPmwt4Y0y2t"
      }
    },
    {
      "cell_type": "code",
      "source": [
        "from sklearn.metrics import classification_report\n",
        "target_names = ['class 0', 'class 1']\n",
        "print(classification_report(y_test, y_pred_logistic, target_names=target_names))"
      ],
      "metadata": {
        "colab": {
          "base_uri": "https://localhost:8080/"
        },
        "id": "kpplz7mTNsxN",
        "outputId": "fb66db07-2ee2-418a-abb7-dfd7fec778a6"
      },
      "execution_count": null,
      "outputs": [
        {
          "output_type": "stream",
          "name": "stdout",
          "text": [
            "              precision    recall  f1-score   support\n",
            "\n",
            "     class 0       0.89      0.99      0.94       534\n",
            "     class 1       0.64      0.18      0.28        79\n",
            "\n",
            "    accuracy                           0.88       613\n",
            "   macro avg       0.76      0.58      0.61       613\n",
            "weighted avg       0.86      0.88      0.85       613\n",
            "\n"
          ]
        }
      ]
    },
    {
      "cell_type": "code",
      "source": [
        "print(\"Logistic Regression Metrics:\")\n",
        "print(f\"Best Parameters: {logistic_grid.best_params_}\")\n",
        "print(f\"Accuracy: {accuracy_score(y_test, y_pred_logistic):.4f}\")\n",
        "print(f\"Precision: {precision_score(y_test, y_pred_logistic):.4f}\")\n",
        "print(f\"Recall: {recall_score(y_test, y_pred_logistic):.4f}\")\n",
        "print(f\"F1 Score: {f1_score(y_test, y_pred_logistic):.4f}\")"
      ],
      "metadata": {
        "colab": {
          "base_uri": "https://localhost:8080/"
        },
        "id": "Zz-VdutA0l8G",
        "outputId": "215f1738-7f2d-4245-f6b2-027f508a2a9b"
      },
      "execution_count": null,
      "outputs": [
        {
          "output_type": "stream",
          "name": "stdout",
          "text": [
            "Logistic Regression Metrics:\n",
            "Best Parameters: {'C': 1, 'penalty': 'l2', 'solver': 'lbfgs'}\n",
            "Accuracy: 0.8809\n",
            "Precision: 0.6364\n",
            "Recall: 0.1772\n",
            "F1 Score: 0.2772\n"
          ]
        }
      ]
    },
    {
      "cell_type": "markdown",
      "source": [
        "Строиим ROC-кривую"
      ],
      "metadata": {
        "id": "3C0Ro9jL00m4"
      }
    },
    {
      "cell_type": "code",
      "source": [
        "if hasattr(best_logistic, \"predict_proba\"):\n",
        "    y_proba_logistic = best_logistic.predict_proba(X_test)[:, 1]\n",
        "else:\n",
        "    y_proba_logistic = best_logistic.decision_function(X_test)\n",
        "\n",
        "fpr_logistic, tpr_logistic, _ = roc_curve(y_test, y_proba_logistic)\n",
        "roc_auc_logistic = roc_auc_score(y_test, y_proba_logistic)\n",
        "plt.plot(fpr_logistic, tpr_logistic, label=f'Logistic Regression (AUC = {roc_auc_logistic:.4f})')\n"
      ],
      "metadata": {
        "colab": {
          "base_uri": "https://localhost:8080/",
          "height": 448
        },
        "id": "LrcET15t0r6j",
        "outputId": "40a80353-4eeb-4347-a43b-b3f8a27109f8"
      },
      "execution_count": null,
      "outputs": [
        {
          "output_type": "execute_result",
          "data": {
            "text/plain": [
              "[<matplotlib.lines.Line2D at 0x7a4b8d210910>]"
            ]
          },
          "metadata": {},
          "execution_count": 14
        },
        {
          "output_type": "display_data",
          "data": {
            "text/plain": [
              "<Figure size 640x480 with 1 Axes>"
            ],
            "image/png": "[encoded data removed]"
          },
          "metadata": {}
        }
      ]
    },
    {
      "cell_type": "markdown",
      "source": [
        "Случайный лес"
      ],
      "metadata": {
        "id": "e7unsBy51HUH"
      }
    },
    {
      "cell_type": "code",
      "source": [
        "rf_model = RandomForestClassifier()\n",
        "rf_params = {\"n_estimators\": [100, 200], \"max_depth\": [10, 20, None], \"min_samples_split\": [2, 5]}\n",
        "rf_grid = GridSearchCV(rf_model, rf_params, cv=5, scoring=\"accuracy\", n_jobs=-1)\n",
        "rf_grid.fit(X_train, y_train)\n",
        "best_rf = rf_grid.best_estimator_\n",
        "y_pred_rf = best_rf.predict(X_test)"
      ],
      "metadata": {
        "id": "sO0g_rft07xB"
      },
      "execution_count": null,
      "outputs": []
    },
    {
      "cell_type": "markdown",
      "source": [
        "Смотрим метрики"
      ],
      "metadata": {
        "id": "dBgN_nW-1DAT"
      }
    },
    {
      "cell_type": "code",
      "source": [
        "from sklearn.metrics import classification_report\n",
        "target_names = ['class 0', 'class 1']\n",
        "print(classification_report(y_test, y_pred_rf, target_names=target_names))"
      ],
      "metadata": {
        "colab": {
          "base_uri": "https://localhost:8080/"
        },
        "id": "cNO_9mQnOKod",
        "outputId": "51a73350-f2c3-4ef8-9832-48b0693d7fe4"
      },
      "execution_count": null,
      "outputs": [
        {
          "output_type": "stream",
          "name": "stdout",
          "text": [
            "              precision    recall  f1-score   support\n",
            "\n",
            "     class 0       1.00      1.00      1.00       534\n",
            "     class 1       1.00      0.97      0.99        79\n",
            "\n",
            "    accuracy                           1.00       613\n",
            "   macro avg       1.00      0.99      0.99       613\n",
            "weighted avg       1.00      1.00      1.00       613\n",
            "\n"
          ]
        }
      ]
    },
    {
      "cell_type": "code",
      "source": [
        "print(\"Random Forest Metrics:\")\n",
        "print(f\"Best Parameters: {rf_grid.best_params_}\")\n",
        "print(f\"Accuracy: {accuracy_score(y_test, y_pred_rf):.4f}\")\n",
        "print(f\"Precision: {precision_score(y_test, y_pred_rf):.4f}\")\n",
        "print(f\"Recall: {recall_score(y_test, y_pred_rf):.4f}\")\n",
        "print(f\"F1 Score: {f1_score(y_test, y_pred_rf):.4f}\")"
      ],
      "metadata": {
        "colab": {
          "base_uri": "https://localhost:8080/"
        },
        "id": "5OChI_PH1CWn",
        "outputId": "3c3a4515-d350-4db2-d5c7-0a282e0aff18"
      },
      "execution_count": null,
      "outputs": [
        {
          "output_type": "stream",
          "name": "stdout",
          "text": [
            "Random Forest Metrics:\n",
            "Best Parameters: {'max_depth': 20, 'min_samples_split': 2, 'n_estimators': 100}\n",
            "Accuracy: 0.9951\n",
            "Precision: 1.0000\n",
            "Recall: 0.9620\n",
            "F1 Score: 0.9806\n"
          ]
        }
      ]
    },
    {
      "cell_type": "markdown",
      "source": [
        "Строим ROC-кривую"
      ],
      "metadata": {
        "id": "qE0CiwG_1JIi"
      }
    },
    {
      "cell_type": "code",
      "source": [
        "if hasattr(best_rf, \"predict_proba\"):\n",
        "    y_proba_rf = best_rf.predict_proba(X_test)[:, 1]\n",
        "else:\n",
        "    y_proba_rf = best_rf.decision_function(X_test)\n",
        "\n",
        "fpr_rf, tpr_rf, _ = roc_curve(y_test, y_proba_rf)\n",
        "roc_auc_rf = roc_auc_score(y_test, y_proba_rf)\n",
        "plt.plot(fpr_rf, tpr_rf, label=f'Random Forest (AUC = {roc_auc_rf:.4f})')"
      ],
      "metadata": {
        "colab": {
          "base_uri": "https://localhost:8080/",
          "height": 694
        },
        "id": "JaL7I6b21MU2",
        "outputId": "823ad15a-0d20-47f8-faa3-9063bdcd7bb6"
      },
      "execution_count": null,
      "outputs": [
        {
          "output_type": "execute_result",
          "data": {
            "text/plain": [
              "[<matplotlib.lines.Line2D at 0x7f6393302650>]"
            ]
          },
          "metadata": {},
          "execution_count": 60
        },
        {
          "output_type": "display_data",
          "data": {
            "text/plain": [
              "<Figure size 1000x800 with 1 Axes>"
            ],
            "image/png": "[encoded data removed]"
          },
          "metadata": {}
        }
      ]
    },
    {
      "cell_type": "markdown",
      "source": [
        "Метод опорных векторов"
      ],
      "metadata": {
        "id": "nnNSCJxb1PPI"
      }
    },
    {
      "cell_type": "code",
      "source": [
        "svm_model = SVC()\n",
        "svm_params = {\"C\": [0.1, 1, 10], \"kernel\": [\"linear\", \"rbf\"]}\n",
        "svm_grid = GridSearchCV(svm_model, svm_params, cv=5, scoring=\"accuracy\", n_jobs=-1)\n",
        "svm_grid.fit(X_train, y_train)\n",
        "best_svm = svm_grid.best_estimator_\n",
        "y_pred_svm = best_svm.predict(X_test)"
      ],
      "metadata": {
        "id": "_KaTjNPT1Waf"
      },
      "execution_count": null,
      "outputs": []
    },
    {
      "cell_type": "markdown",
      "source": [
        "Смотрим метрики"
      ],
      "metadata": {
        "id": "fwX3qxHK1ZGb"
      }
    },
    {
      "cell_type": "code",
      "source": [
        "from sklearn.metrics import classification_report\n",
        "target_names = ['class 0', 'class 1']\n",
        "print(classification_report(y_test, y_pred_svm, target_names=target_names))"
      ],
      "metadata": {
        "colab": {
          "base_uri": "https://localhost:8080/"
        },
        "id": "IVS-9BFgO-1o",
        "outputId": "1a91af06-3619-47ed-d5ca-8b49cc75c4f0"
      },
      "execution_count": null,
      "outputs": [
        {
          "output_type": "stream",
          "name": "stdout",
          "text": [
            "              precision    recall  f1-score   support\n",
            "\n",
            "     class 0       0.94      1.00      0.97       534\n",
            "     class 1       0.98      0.56      0.71        79\n",
            "\n",
            "    accuracy                           0.94       613\n",
            "   macro avg       0.96      0.78      0.84       613\n",
            "weighted avg       0.94      0.94      0.93       613\n",
            "\n"
          ]
        }
      ]
    },
    {
      "cell_type": "code",
      "source": [
        "print(\"SVM Metrics:\")\n",
        "print(f\"Best Parameters: {svm_grid.best_params_}\")\n",
        "print(f\"Accuracy: {accuracy_score(y_test, y_pred_svm):.4f}\")\n",
        "print(f\"Precision: {precision_score(y_test, y_pred_svm):.4f}\")\n",
        "print(f\"Recall: {recall_score(y_test, y_pred_svm):.4f}\")\n",
        "print(f\"F1 Score: {f1_score(y_test, y_pred_svm):.4f}\")"
      ],
      "metadata": {
        "colab": {
          "base_uri": "https://localhost:8080/"
        },
        "id": "TWwQSeCk1bFM",
        "outputId": "cec39356-a3f5-4c66-a87e-229c8488edbb"
      },
      "execution_count": null,
      "outputs": [
        {
          "output_type": "stream",
          "name": "stdout",
          "text": [
            "SVM Metrics:\n",
            "Best Parameters: {'C': 10, 'kernel': 'rbf'}\n",
            "Accuracy: 0.9413\n",
            "Precision: 0.9778\n",
            "Recall: 0.5570\n",
            "F1 Score: 0.7097\n"
          ]
        }
      ]
    },
    {
      "cell_type": "markdown",
      "source": [
        "Строим ROC-кривую"
      ],
      "metadata": {
        "id": "bOL17W5z1crE"
      }
    },
    {
      "cell_type": "code",
      "source": [
        "if hasattr(best_svm, \"predict_proba\"):\n",
        "    y_proba_svm = best_svm.predict_proba(X_test)[:, 1]\n",
        "else:\n",
        "    y_proba_svm = best_svm.decision_function(X_test)\n",
        "\n",
        "fpr_svm, tpr_svm, _ = roc_curve(y_test, y_proba_svm)\n",
        "roc_auc_svm = roc_auc_score(y_test, y_proba_svm)\n",
        "plt.plot(fpr_svm, tpr_svm, label=f'SVM (AUC = {roc_auc_svm:.4f})')"
      ],
      "metadata": {
        "colab": {
          "base_uri": "https://localhost:8080/",
          "height": 694
        },
        "id": "FIP_hNdD1gan",
        "outputId": "9380c3e1-1d6f-41af-f193-05684cac1c68"
      },
      "execution_count": null,
      "outputs": [
        {
          "output_type": "execute_result",
          "data": {
            "text/plain": [
              "[<matplotlib.lines.Line2D at 0x7f638f6d9e40>]"
            ]
          },
          "metadata": {},
          "execution_count": 63
        },
        {
          "output_type": "display_data",
          "data": {
            "text/plain": [
              "<Figure size 1000x800 with 1 Axes>"
            ],
            "image/png": "[encoded data removed]"
          },
          "metadata": {}
        }
      ]
    },
    {
      "cell_type": "markdown",
      "source": [
        "K-ближайших соседей"
      ],
      "metadata": {
        "id": "UhPY0I-G1mUT"
      }
    },
    {
      "cell_type": "code",
      "source": [
        "knn_model = KNeighborsClassifier()\n",
        "knn_params = {\"n_neighbors\": [3, 5, 7], \"weights\": [\"uniform\", \"distance\"]}\n",
        "knn_grid = GridSearchCV(knn_model, knn_params, cv=5, scoring=\"accuracy\", n_jobs=-1)\n",
        "knn_grid.fit(X_train, y_train)\n",
        "best_knn = knn_grid.best_estimator_\n",
        "y_pred_knn = best_knn.predict(X_test)"
      ],
      "metadata": {
        "id": "O5R_UYBa1qj1"
      },
      "execution_count": null,
      "outputs": []
    },
    {
      "cell_type": "code",
      "source": [
        "from sklearn.metrics import classification_report\n",
        "target_names = ['class 0', 'class 1']\n",
        "print(classification_report(y_test, y_pred_knn, target_names=target_names))"
      ],
      "metadata": {
        "colab": {
          "base_uri": "https://localhost:8080/"
        },
        "id": "HlTBo_3lPU2A",
        "outputId": "c3b2ad92-3076-4c6c-ec1d-abac6a5c46fe"
      },
      "execution_count": null,
      "outputs": [
        {
          "output_type": "stream",
          "name": "stdout",
          "text": [
            "              precision    recall  f1-score   support\n",
            "\n",
            "     class 0       0.90      0.99      0.94       534\n",
            "     class 1       0.83      0.24      0.37        79\n",
            "\n",
            "    accuracy                           0.90       613\n",
            "   macro avg       0.86      0.62      0.66       613\n",
            "weighted avg       0.89      0.90      0.87       613\n",
            "\n"
          ]
        }
      ]
    },
    {
      "cell_type": "markdown",
      "source": [
        "Смотрим метрики"
      ],
      "metadata": {
        "id": "d1QgPAYM1tfp"
      }
    },
    {
      "cell_type": "code",
      "source": [
        "print(\"KNN Metrics:\")\n",
        "print(f\"Best Parameters: {knn_grid.best_params_}\")\n",
        "print(f\"Accuracy: {accuracy_score(y_test, y_pred_knn):.4f}\")\n",
        "print(f\"Precision: {precision_score(y_test, y_pred_knn):.4f}\")\n",
        "print(f\"Recall: {recall_score(y_test, y_pred_knn):.4f}\")\n",
        "print(f\"F1 Score: {f1_score(y_test, y_pred_knn):.4f}\")"
      ],
      "metadata": {
        "colab": {
          "base_uri": "https://localhost:8080/"
        },
        "id": "UC_9bkEV1vb1",
        "outputId": "f494f8fc-a9a8-4729-b105-445ba4a25aae"
      },
      "execution_count": null,
      "outputs": [
        {
          "output_type": "stream",
          "name": "stdout",
          "text": [
            "KNN Metrics:\n",
            "Best Parameters: {'n_neighbors': 7, 'weights': 'uniform'}\n",
            "Accuracy: 0.8956\n",
            "Precision: 0.8261\n",
            "Recall: 0.2405\n",
            "F1 Score: 0.3725\n"
          ]
        }
      ]
    },
    {
      "cell_type": "markdown",
      "source": [
        "Строим ROC-кривую"
      ],
      "metadata": {
        "id": "a2yHcrLM1xuL"
      }
    },
    {
      "cell_type": "code",
      "source": [
        "if hasattr(best_knn, \"predict_proba\"):\n",
        "    y_proba_knn = best_knn.predict_proba(X_test)[:, 1]\n",
        "else:\n",
        "    y_proba_knn = best_knn.decision_function(X_test)\n",
        "\n",
        "fpr_knn, tpr_knn, _ = roc_curve(y_test, y_proba_knn)\n",
        "roc_auc_knn = roc_auc_score(y_test, y_proba_knn)\n",
        "plt.plot(fpr_knn, tpr_knn, label=f'KNN (AUC = {roc_auc_knn:.4f})')"
      ],
      "metadata": {
        "colab": {
          "base_uri": "https://localhost:8080/",
          "height": 694
        },
        "id": "6uv4Es8U1z-v",
        "outputId": "76745215-f826-4e3b-a687-ff77a12cf95a"
      },
      "execution_count": null,
      "outputs": [
        {
          "output_type": "execute_result",
          "data": {
            "text/plain": [
              "[<matplotlib.lines.Line2D at 0x7f638f606fb0>]"
            ]
          },
          "metadata": {},
          "execution_count": 66
        },
        {
          "output_type": "display_data",
          "data": {
            "text/plain": [
              "<Figure size 1000x800 with 1 Axes>"
            ],
            "image/png": "[encoded data removed]"
          },
          "metadata": {}
        }
      ]
    },
    {
      "cell_type": "markdown",
      "source": [
        "Градиентный бустинг"
      ],
      "metadata": {
        "id": "BuDYOGO312oP"
      }
    },
    {
      "cell_type": "code",
      "source": [
        "gb_model = GradientBoostingClassifier()\n",
        "gb_params = {\"n_estimators\": [100, 200], \"learning_rate\": [0.01, 0.1, 0.2], \"max_depth\": [3, 5]}\n",
        "gb_grid = GridSearchCV(gb_model, gb_params, cv=5, scoring=\"accuracy\", n_jobs=-1)\n",
        "gb_grid.fit(X_train, y_train)\n",
        "best_gb = gb_grid.best_estimator_\n",
        "y_pred_gb = best_gb.predict(X_test)"
      ],
      "metadata": {
        "id": "SsoJzXDZ15Cx"
      },
      "execution_count": null,
      "outputs": []
    },
    {
      "cell_type": "markdown",
      "source": [
        "Смотрим метрики"
      ],
      "metadata": {
        "id": "DhNea8LN1_zP"
      }
    },
    {
      "cell_type": "code",
      "source": [
        "from sklearn.metrics import classification_report\n",
        "target_names = ['class 0', 'class 1']\n",
        "print(classification_report(y_test, y_pred_gb, target_names=target_names))"
      ],
      "metadata": {
        "colab": {
          "base_uri": "https://localhost:8080/"
        },
        "id": "7E4-gSBsPigb",
        "outputId": "de106cf6-73f9-4e93-e315-c053101a99c6"
      },
      "execution_count": null,
      "outputs": [
        {
          "output_type": "stream",
          "name": "stdout",
          "text": [
            "              precision    recall  f1-score   support\n",
            "\n",
            "     class 0       1.00      1.00      1.00       534\n",
            "     class 1       1.00      0.97      0.99        79\n",
            "\n",
            "    accuracy                           1.00       613\n",
            "   macro avg       1.00      0.99      0.99       613\n",
            "weighted avg       1.00      1.00      1.00       613\n",
            "\n"
          ]
        }
      ]
    },
    {
      "cell_type": "code",
      "source": [
        "print(\"Gradient Boosting Metrics:\")\n",
        "print(f\"Best Parameters: {gb_grid.best_params_}\")\n",
        "print(f\"Accuracy: {accuracy_score(y_test, y_pred_gb):.4f}\")\n",
        "print(f\"Precision: {precision_score(y_test, y_pred_gb):.4f}\")\n",
        "print(f\"Recall: {recall_score(y_test, y_pred_gb):.4f}\")\n",
        "print(f\"F1 Score: {f1_score(y_test, y_pred_gb):.4f}\")"
      ],
      "metadata": {
        "colab": {
          "base_uri": "https://localhost:8080/"
        },
        "id": "ANnxNCTB2BVt",
        "outputId": "7bf304cd-2978-4895-8ef8-c1b3fee472ae"
      },
      "execution_count": null,
      "outputs": [
        {
          "output_type": "stream",
          "name": "stdout",
          "text": [
            "Gradient Boosting Metrics:\n",
            "Best Parameters: {'learning_rate': 0.1, 'max_depth': 5, 'n_estimators': 200}\n",
            "Accuracy: 0.9967\n",
            "Precision: 1.0000\n",
            "Recall: 0.9747\n",
            "F1 Score: 0.9872\n"
          ]
        }
      ]
    },
    {
      "cell_type": "markdown",
      "source": [
        "Строим ROC-кривую"
      ],
      "metadata": {
        "id": "JG0DyOwW2Koq"
      }
    },
    {
      "cell_type": "code",
      "source": [
        "if hasattr(best_gb, \"predict_proba\"):\n",
        "    y_proba_gb = best_gb.predict_proba(X_test)[:, 1]\n",
        "else:\n",
        "    y_proba_gb = best_gb.decision_function(X_test)\n",
        "\n",
        "fpr_gb, tpr_gb, _ = roc_curve(y_test, y_proba_gb)\n",
        "roc_auc_gb = roc_auc_score(y_test, y_proba_gb)\n",
        "plt.plot(fpr_gb, tpr_gb, label=f'Gradient Boosting (AUC = {roc_auc_gb:.4f})')"
      ],
      "metadata": {
        "colab": {
          "base_uri": "https://localhost:8080/",
          "height": 694
        },
        "id": "Tm_1DXjO2OHc",
        "outputId": "da534bfc-cf7b-410b-89c4-493bdaa341d7"
      },
      "execution_count": null,
      "outputs": [
        {
          "output_type": "execute_result",
          "data": {
            "text/plain": [
              "[<matplotlib.lines.Line2D at 0x7f638db42620>]"
            ]
          },
          "metadata": {},
          "execution_count": 69
        },
        {
          "output_type": "display_data",
          "data": {
            "text/plain": [
              "<Figure size 1000x800 with 1 Axes>"
            ],
            "image/png": "[encoded data removed]"
          },
          "metadata": {}
        }
      ]
    },
    {
      "cell_type": "markdown",
      "source": [
        "Таким образом, среди всех моделей, выберем наилучшие: случайный лес и градиентных бустинг.\n"
      ],
      "metadata": {
        "id": "hRJ9ORq_24aM"
      }
    },
    {
      "cell_type": "markdown",
      "source": [
        "Однако, в 3-х из 4-х метрик выигрывает градиентный бустинг. Выберем его наилучшим."
      ],
      "metadata": {
        "id": "uALek3Fn2_iJ"
      }
    }
  ]
}